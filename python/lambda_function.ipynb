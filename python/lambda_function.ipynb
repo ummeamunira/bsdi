{
  "nbformat": 4,
  "nbformat_minor": 0,
  "metadata": {
    "colab": {
      "provenance": [],
      "authorship_tag": "ABX9TyNgLvZzVLn3aOIGsqXAU5Ce",
      "include_colab_link": true
    },
    "kernelspec": {
      "name": "python3",
      "display_name": "Python 3"
    },
    "language_info": {
      "name": "python"
    }
  },
  "cells": [
    {
      "cell_type": "markdown",
      "metadata": {
        "id": "view-in-github",
        "colab_type": "text"
      },
      "source": [
        "<a href=\"https://colab.research.google.com/github/ummeamunira/bsdi/blob/main/python/lambda_function.ipynb\" target=\"_parent\"><img src=\"https://colab.research.google.com/assets/colab-badge.svg\" alt=\"Open In Colab\"/></a>"
      ]
    },
    {
      "cell_type": "markdown",
      "source": [
        "A **lambda function** in Python is a small anonymous function defined using the lambda keyword. Lambda functions can have any number of arguments but only one expression."
      ],
      "metadata": {
        "id": "pQwyh3rn8OMR"
      }
    },
    {
      "cell_type": "code",
      "source": [
        "lambda arguments: expression\n"
      ],
      "metadata": {
        "colab": {
          "base_uri": "https://localhost:8080/"
        },
        "id": "CT4itWt_0IA9",
        "outputId": "0f2560e5-f00e-4a14-e232-e4d6ddecb7f9"
      },
      "execution_count": 12,
      "outputs": [
        {
          "output_type": "execute_result",
          "data": {
            "text/plain": [
              "<function __main__.<lambda>(arguments)>"
            ]
          },
          "metadata": {},
          "execution_count": 12
        }
      ]
    },
    {
      "cell_type": "code",
      "source": [
        "#Basic Lambda Function\n",
        "# A lambda function that adds 10 to its input\n",
        "add_ten = lambda x: x + 10\n",
        "print(add_ten(5))  # Output: 15\n"
      ],
      "metadata": {
        "colab": {
          "base_uri": "https://localhost:8080/"
        },
        "id": "AsWgGtvI8WgQ",
        "outputId": "506f4f52-7961-428b-b449-3bafddf203d4"
      },
      "execution_count": 6,
      "outputs": [
        {
          "output_type": "stream",
          "name": "stdout",
          "text": [
            "15\n"
          ]
        }
      ]
    },
    {
      "cell_type": "code",
      "source": [
        "# A lambda function that multiplies two numbers\n",
        "multiply = lambda x, y: x * y\n",
        "print(multiply(2, 3))  # Output: 6\n"
      ],
      "metadata": {
        "colab": {
          "base_uri": "https://localhost:8080/"
        },
        "id": "8PuCwunE8bvq",
        "outputId": "cf238f61-e866-47ad-fa97-75941d078d2b"
      },
      "execution_count": 7,
      "outputs": [
        {
          "output_type": "stream",
          "name": "stdout",
          "text": [
            "6\n"
          ]
        }
      ]
    },
    {
      "cell_type": "code",
      "source": [
        "# Using a lambda function with the `map` function\n",
        "numbers = [1, 2, 3, 4]\n",
        "squares = map(lambda x: x ** 2, numbers)\n",
        "print(list(squares))  # Output: [1, 4, 9, 16]\n",
        "\n"
      ],
      "metadata": {
        "colab": {
          "base_uri": "https://localhost:8080/"
        },
        "id": "HtEdg00N0Nr-",
        "outputId": "1125f2bf-07a8-4acd-8d9b-18587614f4c7"
      },
      "execution_count": 8,
      "outputs": [
        {
          "output_type": "stream",
          "name": "stdout",
          "text": [
            "[1, 4, 9, 16]\n"
          ]
        }
      ]
    },
    {
      "cell_type": "code",
      "source": [
        "# Sorting a list of tuples based on the second element\n",
        "points = [(1, 2), (3, 1), (5, -1)]\n",
        "points_sorted = sorted(points, key=lambda point: point[1])\n",
        "print(points_sorted)  # Output: [(5, -1), (3, 1), (1, 2)]\n"
      ],
      "metadata": {
        "colab": {
          "base_uri": "https://localhost:8080/"
        },
        "id": "QJbd-_V2zwAR",
        "outputId": "056cab35-aef8-4586-cb4c-b56720bc8684"
      },
      "execution_count": 9,
      "outputs": [
        {
          "output_type": "stream",
          "name": "stdout",
          "text": [
            "[(5, -1), (3, 1), (1, 2)]\n"
          ]
        }
      ]
    },
    {
      "cell_type": "code",
      "source": [
        "# A function that takes a lambda function as an argument\n",
        "def apply_function(x, func):\n",
        "    return func(x)\n",
        "\n",
        "result = apply_function(5, lambda x: x ** 2)\n",
        "print(result)  # Output: 25\n"
      ],
      "metadata": {
        "colab": {
          "base_uri": "https://localhost:8080/"
        },
        "id": "03x2azkn8vKF",
        "outputId": "4668cec1-702e-49b4-9c61-4b4906505e13"
      },
      "execution_count": 11,
      "outputs": [
        {
          "output_type": "stream",
          "name": "stdout",
          "text": [
            "25\n"
          ]
        }
      ]
    }
  ]
}